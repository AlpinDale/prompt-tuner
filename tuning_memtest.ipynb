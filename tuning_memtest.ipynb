{
 "cells": [
  {
   "cell_type": "code",
   "execution_count": null,
   "metadata": {},
   "outputs": [],
   "source": [
    "colab = 'google.colab' in str(get_ipython())"
   ]
  },
  {
   "cell_type": "code",
   "execution_count": null,
   "metadata": {},
   "outputs": [],
   "source": [
    "# Setup for Colab only\n",
    "if colab:\n",
    "    !pip install transformers\n",
    "    !pip install git+https://github.com/AlpinDale/prompt-tuner.git#egg=master --log PIP_LOG\n",
    "    !pip install gdown\n",
    "    !pip install datasets\n",
    "    !pip install tqdm\n",
    "    !nvidia-smi"
   ]
  },
  {
   "cell_type": "code",
   "execution_count": null,
   "metadata": {},
   "outputs": [],
   "source": [
    "# If on Colab, mount your Google Drive first!\n",
    "if colab:\n",
    "    from google.colab import drive\n",
    "    drive.mount('/content/drive')"
   ]
  },
  {
   "cell_type": "code",
   "execution_count": null,
   "metadata": {},
   "outputs": [],
   "source": [
    "# Decide the length of your soft prompt in tokens.\n",
    "# 20 to 100 is a good amount.\n",
    "n_tokens = 100\n",
    "\n",
    "# Specify the model directory or huggingface name.\n",
    "if colab:\n",
    "    model_dir = \"NousResearch/Llama-2-7b-hf\"\n",
    "else:\n",
    "    model_dir = \"NousResearch/Llama-2-7b-hf\" "
   ]
  },
  {
   "cell_type": "code",
   "execution_count": null,
   "metadata": {},
   "outputs": [],
   "source": [
    "from prompt_tuner.tuning import AutoPromptTuningLM\n",
    "from transformers import AutoTokenizerFast\n",
    "from prompt_tuner.soft_prompt import SoftPrompt\n",
    "from transformers import Adafactor\n",
    "import random\n",
    "import torch\n",
    "import math"
   ]
  },
  {
   "cell_type": "code",
   "execution_count": null,
   "metadata": {},
   "outputs": [],
   "source": [
    "from prompt_tuner.tuning import AutoPromptTuningLM\n",
    "from transformers import Adafactor\n",
    "model = AutoPromptTuningLM.from_pretrained(model_dir).half().to(\"cuda\").train()\n",
    "optimizer = Adafactor([model.get_soft_params()])"
   ]
  },
  {
   "cell_type": "code",
   "execution_count": null,
   "metadata": {},
   "outputs": [],
   "source": [
    "for length in range(1, 2048, 5):\n",
    "    input_ids = torch.ones(1, length).long().cuda().detach()\n",
    "\n",
    "    try:\n",
    "        torch.cuda.empty_cache()\n",
    "        \n",
    "        outputs = model(input_ids=input_ids, labels=input_ids, use_cache=True)\n",
    "        loss = outputs.loss\n",
    "        loss.backward()\n",
    "\n",
    "        print(f\"Block size {length-5} OK\")\n",
    "        del input_ids\n",
    "    except RuntimeError:\n",
    "        print(f\"Maximum block size: {length-5}\")\n",
    "        break\n",
    "\n",
    "del input_ids\n",
    "torch.cuda.empty_cache()\n",
    "\n",
    "if colab:\n",
    "    !nvidia-smi"
   ]
  }
 ],
 "metadata": {
  "interpreter": {
   "hash": "3a36cc62f71b170ca22994dbd401744aeca204aa470bb3afe779afe0ab68d530"
  },
  "kernelspec": {
   "display_name": "Python 3.8.10 64-bit",
   "name": "python3"
  },
  "language_info": {
   "codemirror_mode": {
    "name": "ipython",
    "version": 3
   },
   "file_extension": ".py",
   "mimetype": "text/x-python",
   "name": "python",
   "nbconvert_exporter": "python",
   "pygments_lexer": "ipython3",
   "version": "3.8.10"
  },
  "orig_nbformat": 4
 },
 "nbformat": 4,
 "nbformat_minor": 2
}
